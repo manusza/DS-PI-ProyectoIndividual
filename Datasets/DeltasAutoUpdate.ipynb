{
 "cells": [
  {
   "cell_type": "code",
   "execution_count": 41,
   "metadata": {},
   "outputs": [
    {
     "name": "stdout",
     "output_type": "stream",
     "text": [
      "Sus archivos han sido actualizados!\n"
     ]
    },
    {
     "data": {
      "text/plain": [
       "''"
      ]
     },
     "execution_count": 41,
     "metadata": {},
     "output_type": "execute_result"
    }
   ],
   "source": [
    "import pandas as pd \n",
    "\n",
    "archivo= input(\"Que archivo delta va a ingresar? Clientes, Ventas, Compras, Proovedores, Localidades, Precio o Sucursales?\")\n",
    "nombre_archivo=input(\"Ingrese el nombre de su archivo con su extension, EJ: Clientes.csv\")\n",
    "\n",
    "\n",
    "\n",
    "def concat_archivos(archivo, nombre_archivo):\n",
    "    \n",
    "    if archivo.lower() == \"clientes\":\n",
    "\n",
    "        df = pd.read_csv(nombre_archivo, sep=';')\n",
    "        df.to_csv('Clientes.csv', index= False , sep= ';', header= None, mode='a')\n",
    "\n",
    "        #aplicamos un drop duplicate row en caso de que el delta venga con duplicados, me quedo con la ultima informacion en caso que el cliente haya cambiado algo de su ficha tecnica\n",
    "\n",
    "        df1= pd.read_csv('Clientes.csv', sep= ';')\n",
    "        df1= df1.drop_duplicates(subset=['ID'], keep='last')\n",
    "        df1.to_csv('Clientes.csv', index= False, sep=';')\n",
    "        print(df1.dtypes)\n",
    "\n",
    "    elif archivo.lower() == \"ventas\":\n",
    "\n",
    "        df = pd.read_csv(nombre_archivo, sep=',')\n",
    "        df.to_csv('Venta.csv', index= False, sep= ',', header= None, mode='a')\n",
    "        df1= pd.read_csv('Venta.csv', sep=',')\n",
    "        df1= df1.drop_duplicates(subset=['IdVenta'], keep='first')\n",
    "        df1.to_csv('Venta.csv', index= False, sep=',')\n",
    "\n",
    "    elif archivo.lower() == \"compras\":\n",
    "\n",
    "        df = pd.read_csv(nombre_archivo, sep=',')\n",
    "        df.to_csv('Compra.csv', index= False, sep= ',', header= None, mode='a')\n",
    "        df1= pd.read_csv('Compra.csv')\n",
    "        df1= df1.drop_duplicates(subset=['IdCompra'], keep='first')\n",
    "        df1.to_csv('Compra.csv', index= False, sep=',')\n",
    "\n",
    "    elif archivo.lower() == \"proveedores\":\n",
    "\n",
    "        df = pd.read_csv(nombre_archivo, sep=',')\n",
    "        df.to_csv('Proveedores.csv', index= False, sep= ',', header= None, mode='a')\n",
    "        df1= pd.read_csv('Proveedores.csv',encoding = \"Latin-1\")\n",
    "        df1= df1.drop_duplicates(subset=['IDProveedor'], keep='first')\n",
    "        df1.to_csv('Proveedores.csv', index= False, sep=',')\n",
    "\n",
    "    elif archivo.lower() == \"sucursales\":\n",
    "\n",
    "        df = pd.read_csv(nombre_archivo, sep=',')\n",
    "        df.to_csv('Sucursales.csv', index= False, sep= ',', header= None, mode='a')\n",
    "        df1= pd.read_csv('Sucursales.csv')\n",
    "        df1= df1.drop_duplicates(subset=['ID'], keep='first')\n",
    "        df1.to_csv('Sucursales.csv', index= False, sep=',')\n",
    "\n",
    "    elif archivo.lower() == \"gasto\":\n",
    "\n",
    "        df = pd.read_csv(nombre_archivo, sep=',')\n",
    "        df.to_csv('Gasto.csv', index= False, sep= ',', header= None, mode='a')\n",
    "        df1= pd.read_csv('Gasto.csv')\n",
    "        df1= df1.drop_duplicates(subset=['IdGasto'], keep='first')\n",
    "        df1.to_csv('Gasto.csv', index= False, sep=',')\n",
    "\n",
    "    elif archivo.lower() == \"localidades\":\n",
    "\n",
    "        df = pd.read_csv(nombre_archivo, sep=',')\n",
    "        df.to_csv('Localidades.csv', index= False, sep= ',', header= None, mode='a')\n",
    "        df1= pd.read_csv('Localidades.csv')\n",
    "        df1= df1.drop_duplicates(subset=['categoria'], keep='first')\n",
    "        df1.to_csv('Localidades.csv', index= False, sep=',')\n",
    "\n",
    "\n",
    "concat_archivos(archivo, nombre_archivo)\n",
    "print(\"Sus archivos han sido actualizados!\")\n",
    "\n",
    "#creamos un input asi no se nos cierra directamente el script\n",
    "input(\"\")\n",
    "\n",
    "\n",
    "\n",
    "    \n",
    "\n"
   ]
  }
 ],
 "metadata": {
  "interpreter": {
   "hash": "82dbad3b01b1b2b0ca78d66982815e19bc36c5eb2e01eadef2ca35f9f3a411e5"
  },
  "kernelspec": {
   "display_name": "Python 3.9.7 ('base')",
   "language": "python",
   "name": "python3"
  },
  "language_info": {
   "codemirror_mode": {
    "name": "ipython",
    "version": 3
   },
   "file_extension": ".py",
   "mimetype": "text/x-python",
   "name": "python",
   "nbconvert_exporter": "python",
   "pygments_lexer": "ipython3",
   "version": "3.9.7"
  },
  "orig_nbformat": 4
 },
 "nbformat": 4,
 "nbformat_minor": 2
}
